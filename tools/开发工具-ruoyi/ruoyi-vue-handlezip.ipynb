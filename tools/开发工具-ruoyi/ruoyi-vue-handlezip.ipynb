{
 "cells": [
  {
   "cell_type": "code",
   "execution_count": 62,
   "metadata": {},
   "outputs": [],
   "source": [
    "from pathlib import Path\n",
    "import shutil\n",
    "import zipfile\n",
    "import os"
   ]
  },
  {
   "cell_type": "code",
   "execution_count": 63,
   "metadata": {},
   "outputs": [],
   "source": [
    "# 配置信息\n",
    "shuffleBack = 0 \n",
    "shuffleFront = 0\n",
    "shuffleDb = 0\n",
    "deleteFile = 0\n",
    "\n",
    "# ------------------------ 下载信息 ----------------------\n",
    "# 下载地址\n",
    "downloadDir = Path(\"C:/Users/JACKYLEE/Downloads\")\n",
    "# 压缩文件名\n",
    "zipFileName = \"ruoyi.zip\"\n",
    "# 压缩路径\n",
    "zipPath = downloadDir.joinpath(zipFileName)\n",
    "# 压缩文件路径\n",
    "unzipDir = downloadDir.joinpath(\"ruoyi\")\n",
    "# 后端压缩路径\n",
    "backendZipDir = unzipDir.joinpath(\"main\")\n",
    "# 前端压缩路径\n",
    "frontendZipDir = unzipDir.joinpath(\"vue\")\n",
    "# ------------------------ 项目信息 ----------------------\n",
    "# 项目位置\n",
    "projectPath = Path(\"E:/Project/Ruoyi\")\n",
    "# ------------------------ 项目信息/后端 ----------------------\n",
    "# 后端名称\n",
    "backendName = \"RuoYi-Vue\"\n",
    "# 后端模块名\n",
    "backModelName = \"ruoyi-business\"\n",
    "# 后端源码路径\n",
    "backendSrcDir = projectPath.joinpath(backendName, backModelName, \"src\", \"main\")\n",
    "# ------------------------ 项目信息/前端 ----------------------\n",
    "# 前端名称\n",
    "frontendName = \"RuoYi-Vue3\"\n",
    "# 前端源码路径\n",
    "frontendSrcDir = projectPath.joinpath(frontendName, \"src\")\n"
   ]
  },
  {
   "cell_type": "code",
   "execution_count": 64,
   "metadata": {},
   "outputs": [],
   "source": [
    "# 校验\n",
    "if not zipPath.exists():\n",
    "    print(\"文件不存在\")\n",
    "if not unzipDir.exists():\n",
    "    unzipDir.mkdir()\n",
    "# 解压文件\n",
    "with zipfile.ZipFile(zipPath, 'r') as zipRef:\n",
    "    zipRef.extractall(unzipDir)"
   ]
  },
  {
   "cell_type": "code",
   "execution_count": 57,
   "metadata": {},
   "outputs": [],
   "source": [
    "# 定义复制函数\n",
    "def copyToDir(src:Path, dst:Path):\n",
    "    # 如果是文件\n",
    "    if src.is_file():\n",
    "        shutil.copyfile(src, dst)\n",
    "        print(f\"复制: {src.name} -> {dst.name}\")\n",
    "        return \n",
    "    # 如果是文件夹\n",
    "    if not dst.exists():\n",
    "        print(\"创建文件夹:\", dst)\n",
    "        dst.mkdir()\n",
    "    # 递归调用\n",
    "    for path in src.iterdir():\n",
    "        relativePath = path.relative_to(src)\n",
    "        dstSub = dst.joinpath(relativePath)\n",
    "        copyToDir(path, dstSub)"
   ]
  },
  {
   "cell_type": "code",
   "execution_count": 58,
   "metadata": {},
   "outputs": [
    {
     "name": "stdout",
     "output_type": "stream",
     "text": [
      "创建文件夹: E:\\Project\\Ruoyi\\RuoYi-Vue\\ruoyi-business\\src\\main\\java\\com\\ruoyi\\region\n",
      "创建文件夹: E:\\Project\\Ruoyi\\RuoYi-Vue\\ruoyi-business\\src\\main\\java\\com\\ruoyi\\region\\controller\n",
      "复制: RegionCodeController.java -> RegionCodeController.java\n",
      "创建文件夹: E:\\Project\\Ruoyi\\RuoYi-Vue\\ruoyi-business\\src\\main\\java\\com\\ruoyi\\region\\domain\n",
      "复制: RegionCode.java -> RegionCode.java\n",
      "创建文件夹: E:\\Project\\Ruoyi\\RuoYi-Vue\\ruoyi-business\\src\\main\\java\\com\\ruoyi\\region\\mapper\n",
      "复制: RegionCodeMapper.java -> RegionCodeMapper.java\n",
      "创建文件夹: E:\\Project\\Ruoyi\\RuoYi-Vue\\ruoyi-business\\src\\main\\java\\com\\ruoyi\\region\\service\n",
      "创建文件夹: E:\\Project\\Ruoyi\\RuoYi-Vue\\ruoyi-business\\src\\main\\java\\com\\ruoyi\\region\\service\\impl\n",
      "复制: RegionCodeServiceImpl.java -> RegionCodeServiceImpl.java\n",
      "复制: IRegionCodeService.java -> IRegionCodeService.java\n",
      "创建文件夹: E:\\Project\\Ruoyi\\RuoYi-Vue\\ruoyi-business\\src\\main\\resources\\mapper\\region\n",
      "复制: RegionCodeMapper.xml -> RegionCodeMapper.xml\n"
     ]
    }
   ],
   "source": [
    "# 后端代码复制\n",
    "shuffleBack = True\n",
    "if shuffleBack:\n",
    "    copyToDir(backendZipDir, backendSrcDir)\n",
    "else:\n",
    "    print(\"后端代码不刷新\")"
   ]
  },
  {
   "cell_type": "code",
   "execution_count": 59,
   "metadata": {},
   "outputs": [
    {
     "name": "stdout",
     "output_type": "stream",
     "text": [
      "创建文件夹: E:\\Project\\Ruoyi\\RuoYi-Vue3\\src\\api\\region\n",
      "复制: regionCode.js -> regionCode.js\n",
      "创建文件夹: E:\\Project\\Ruoyi\\RuoYi-Vue3\\src\\views\\region\n",
      "创建文件夹: E:\\Project\\Ruoyi\\RuoYi-Vue3\\src\\views\\region\\regionCode\n",
      "复制: index.vue -> index.vue\n"
     ]
    }
   ],
   "source": [
    "# 复制前端代码\n",
    "shuffleFront = True\n",
    "if shuffleFront:\n",
    "    copyToDir(frontendZipDir, frontendSrcDir)\n",
    "else:\n",
    "    print(\"前端代码不刷新\")"
   ]
  },
  {
   "cell_type": "code",
   "execution_count": 65,
   "metadata": {},
   "outputs": [
    {
     "name": "stdout",
     "output_type": "stream",
     "text": [
      "C:\\Users\\JACKYLEE\\Downloads\\ruoyi\\regionCodeMenu.sql\n"
     ]
    }
   ],
   "source": [
    "# 执行 sql 脚本\n",
    "shuffleDb = 1\n",
    "if shuffleDb:\n",
    "    env = os.environ\n",
    "    password= env['MYSQL_ROOT_PASSWORD']\n",
    "    # 找到所有sql脚本\n",
    "    sql_files = unzipDir.glob(\"*.sql\")\n",
    "    for file in sql_files:\n",
    "        print(file)\n",
    "        content = f'mysql -uroot -p{password} -D\"se-info\" -e \"source {file}\"'\n",
    "        os.system(content)\n",
    "else:\n",
    "    print(\"脚本代码不刷新\")"
   ]
  },
  {
   "cell_type": "code",
   "execution_count": 66,
   "metadata": {},
   "outputs": [],
   "source": [
    "# 删除解压的文件\n",
    "deleteFile = True\n",
    "if deleteFile:\n",
    "    shutil.rmtree(unzipDir)\n",
    "    os.remove(zipPath)"
   ]
  }
 ],
 "metadata": {
  "kernelspec": {
   "display_name": "Python 3",
   "language": "python",
   "name": "python3"
  },
  "language_info": {
   "codemirror_mode": {
    "name": "ipython",
    "version": 3
   },
   "file_extension": ".py",
   "mimetype": "text/x-python",
   "name": "python",
   "nbconvert_exporter": "python",
   "pygments_lexer": "ipython3",
   "version": "3.10.13"
  }
 },
 "nbformat": 4,
 "nbformat_minor": 2
}
